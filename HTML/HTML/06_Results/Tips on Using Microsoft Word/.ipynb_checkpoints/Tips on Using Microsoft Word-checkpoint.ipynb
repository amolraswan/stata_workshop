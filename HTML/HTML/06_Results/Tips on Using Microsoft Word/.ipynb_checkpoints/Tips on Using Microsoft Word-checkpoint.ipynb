{
 "cells": [
  {
   "cell_type": "markdown",
   "metadata": {},
   "source": [
    "# <font color=#303030>Tips On Using Microsoft Word</font>"
   ]
  },
  {
   "cell_type": "markdown",
   "metadata": {},
   "source": [
    "### <font color=#303030>Review</font>\n",
    "\n",
    "Word’s Review tools are helpful for keeping track of edits to a document and providing comments in the margin. When editing a document, be sure that “Track changes” is on. If you’d rather not see the changes, just click “Final” in the tracking group under Review to only see what the document looks like without tracked changes."
   ]
  },
  {
   "cell_type": "markdown",
   "metadata": {},
   "source": [
    "### <font color=#303030>Outline Mode</font>\n",
    "\n",
    "Word offers a built-in structure to its documents that allows you to automatically outline and change styles to different parts of the document. This manual, for instance, was built using the outline viewing mode you can see by clicking on “outline mode” on the right-hand side of the bottom toolbar. The features offered by outline mode and styles mimic the ease of using Latex to structure and give style to a document — without having to learn code or constantly run the code to see the results. There are three key features to become familiar with if you’d like to use this feature in Word:\n",
    "\n",
    "#### <font color=#303030>Style Sets</font>\n",
    "Word has built in “styles” that automate formatting for certain types of text. The styles function works similar to CSS (if you’re familiar with web programming): simply define a certain style and when you come across text that should be in that style, select it and then apply the style.\n",
    "\n",
    "#### <font color=#303030>Outline Mode</font>\n",
    "Outline mode allows you to easily collapse, rearrange, and restructure the document text. Click “View” and then “Outline” to enter this mode. Key to using outline mode is the creation of headings and subheadings, which give structure to the document. For more tips, see the somewhat outdated but still useful guide [here](https://wordmvp.com/FAQs/Formatting/UsingOLView.htm).\n",
    "\n",
    "#### <font color=#303030>Custom Multi-Level Lists</font>\n",
    "If you use outline mode and headings, it’s convenient to automate the headings’ numbering by defining a new multi-level list. Once you’ve defined how each of the list elements looks, point word to the heading level that should have that list-style and it will automate the numbering."
   ]
  },
  {
   "cell_type": "markdown",
   "metadata": {},
   "source": [
    "### <font color=#303030>Dynamic Information: Fields and Brackets</font>\n",
    "\n",
    "When some information in a paper or report is changing — for instance, because the number of tables is changing — Word’s field tool can help keep track of that information. See “Insert”, “Quick Parts” and “fields” to automate the indexing of a table, for instance, or to insert references to previous values in the document.\n",
    "\n",
    "Your PI often identifies information that may change in a paper by putting brackets around it. For example, the paper might say, we conduct analysis here on \\[10\\] measurements of financial literacy. If the analysis changes, the 10 is already identified as something that may need editing. When editing a final draft, be sure to search for these brackets and remove them if the paper is ready to be published."
   ]
  }
 ],
 "metadata": {
  "kernelspec": {
   "display_name": "Stata",
   "language": "stata",
   "name": "stata"
  },
  "language_info": {
   "codemirror_mode": "stata",
   "file_extension": ".do",
   "mimetype": "text/x-stata",
   "name": "stata",
   "version": "15.1"
  }
 },
 "nbformat": 4,
 "nbformat_minor": 2
}
