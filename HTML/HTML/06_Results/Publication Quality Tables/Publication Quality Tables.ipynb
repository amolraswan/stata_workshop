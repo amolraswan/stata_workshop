{
 "cells": [
  {
   "cell_type": "markdown",
   "metadata": {},
   "source": [
    "# <font color=#303030>A System for Publication-Quality Tables</font>"
   ]
  },
  {
   "cell_type": "markdown",
   "metadata": {},
   "source": [
    "This page details how to automate a large portion of the process for creating tables in excel. It involves using excel’s import function."
   ]
  },
  {
   "cell_type": "markdown",
   "metadata": {},
   "source": [
    "#### <font color=#303030>Step 1: Create a raw export in .csv format</font> <img align=\"right\" width=\"200\" height=\"400\" src=\"step1.png\">\n",
    "\n",
    "- This can be done using “estout” or “outreg2”. If you’re unsure how to do this, see the [Exporting_Regression_Results](https://northwestern.app.box.com/file/311274668155) dofile. \n",
    "- Here's the table produced and the one we'll be using for our examples\n",
    "    - The code for this can be found on line ## of the dofile.\n",
    "    "
   ]
  },
  {
   "cell_type": "markdown",
   "metadata": {},
   "source": [
    "#### <font color=#303030>Step 2: Create an excel workbook where you will hold your formatted tables</font>\n",
    "\n",
    "- You only need one excel file for all your tables\n",
    "- But you will need two sheets for every table you wish <img align=\"right\" width=\"200\" height=\"50\"  src=\"step2.png\">\n",
    "    - One will be formatted, and the other will be a raw landing point for your data in the .csv file from Step 1\n",
    "    - Name them accordingly, you can say “HIDE_” or “RAW_”, whatever works for you."
   ]
  },
  {
   "cell_type": "markdown",
   "metadata": {},
   "source": [
    "#### <font color=#303030>Step 3: Import the data with Excel's import funcion to your raw sheet</font>\n",
    "\n",
    "- Select Cell A1 <img align=\"right\" width=\"200\" height=\"200\" src=\"step3_1.png\">\n",
    "- Go to the ribbon; *Data > From Text* \n",
    "- Select your file \n",
    "\n",
    "   "
   ]
  },
  {
   "cell_type": "markdown",
   "metadata": {},
   "source": [
    "- A \"Text Import Wizard\" window will appear <img align=\"right\" width=\"300\" height=\"300\"  src=\"step3_2.png\">\n",
    "    - Select \"Delimited\" as .csv files are comma-delimited\n",
    "    - Select \"Comma\" in the delimiter select-multiple window\n",
    "    - Select \"Finish\" "
   ]
  },
  {
   "cell_type": "markdown",
   "metadata": {},
   "source": [
    "<img align=\"right\" width=\"200\" height=\"400\" src=\"step3_3.png\"> \n",
    "- A new “Import Data” window will appear which will allow us to edit some useful features\n",
    "    - Hit “Properties”\n",
    "    - These can largely be tuned to your liking, but what is recommended is;\n",
    "        - Unchecking “Prompt for filename on refresh”, this is annoying\n",
    "        - Checking “Refresh data when opening the file”\n",
    "        - Selecting “Overwrite existing cells with new data” to keep the file tidy\n",
    "    - Hit “Ok” to exit the properties window\n",
    "    - Hit “Ok” again to exit the “Import Data” window\n"
   ]
  },
  {
   "cell_type": "markdown",
   "metadata": {},
   "source": [
    "- You will now see your table, just as it existed in the other .csv file\n",
    "\n",
    "<img align=\"bottom\" width=\"300\" height=\"500\" src=\"step3_4.png\">"
   ]
  },
  {
   "cell_type": "markdown",
   "metadata": {},
   "source": [
    "#### <font color=#303030>Step 4: Link to this table in our formatted sheet and format away</font>\n",
    "\n",
    "- These two things often have to be done in conjunction, since you won’t know exactly which cells require data until you start creating your table\n",
    "- To link to the raw sheet;\n",
    "    - Type “=” in a cell, click to the raw sheet, and select the cell you wish to appear\n",
    "    - Formatting will not be undone if you switch cells or undo a link\n",
    "- Here's an example table:\n",
    "\n",
    "<img align=\"bottom\" width=\"300\" height=\"500\" src=\"step4.png\">\n"
   ]
  },
  {
   "cell_type": "markdown",
   "metadata": {},
   "source": [
    "#### <font color=#303030>When is this <u>useful</u></font>:\n",
    "\n",
    "- When you still have observations that will be added\n",
    "- or variables whose constructions will change slightly\n",
    "- & are confident your model will not change\n",
    "- All of the above are instances where cell numbres will not change\n",
    "\n",
    "#### <font color=#303030>When is this <u>not useful</u></font>:\n",
    "- When you may be adding/removing variables from a model\n",
    "    - This is turn will rearrange the cells in your raw sheet and null all the linking you did to your formatted sheet as the desired data will be be in new cells"
   ]
  }
 ],
 "metadata": {
  "kernelspec": {
   "display_name": "Stata",
   "language": "stata",
   "name": "stata"
  },
  "language_info": {
   "codemirror_mode": "stata",
   "file_extension": ".do",
   "mimetype": "text/x-stata",
   "name": "stata",
   "version": "15.1"
  }
 },
 "nbformat": 4,
 "nbformat_minor": 2
}
