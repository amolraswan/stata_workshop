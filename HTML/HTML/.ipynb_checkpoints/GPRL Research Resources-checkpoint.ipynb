{
 "cells": [
  {
   "cell_type": "markdown",
   "metadata": {},
   "source": [
    "# GPRL Research Resources"
   ]
  },
  {
   "cell_type": "markdown",
   "metadata": {},
   "source": [
    "Hi, This is a work-in-progress, suggestions are always welcome.\n",
    "\n",
    "We currently have resources on the following topics. Click on them to discover what all is there to learn and work on!\n",
    "\n",
    "1. [Data Collection](04_Data Collection/Data Collection.html)\n",
    "2. [Results](06_Results/Results.html)"
   ]
  }
 ],
 "metadata": {
  "kernelspec": {
   "display_name": "Stata",
   "language": "stata",
   "name": "stata"
  },
  "language_info": {
   "codemirror_mode": "stata",
   "file_extension": ".do",
   "mimetype": "text/x-stata",
   "name": "stata",
   "version": "15.1"
  }
 },
 "nbformat": 4,
 "nbformat_minor": 2
}
