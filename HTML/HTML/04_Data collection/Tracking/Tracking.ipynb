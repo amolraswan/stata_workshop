{
 "cells": [
  {
   "cell_type": "markdown",
   "metadata": {},
   "source": [
    "### 4. Tracking"
   ]
  },
  {
   "cell_type": "markdown",
   "metadata": {},
   "source": [
    "During data collection, field teams work to find and interview respondents in a selected sample. It can be challenging to track every household in the sample, and although it’s likely that some households will not be found, it can make the process a lot smoother to have a clear set of tracking protocols for the field team to adhere to. In most projects, IPA’s field teams manage this process.\n",
    "\n",
    "Once data collection is underway, it is important to continue tracking survey progress with some sort of monitoring system. For example, if an enumerator submits a survey with an incomplete status, it will be useful to know precisely why the interview could not be completed. Some common responses that are typically included in the choice set for a question that asks about the survey completion status are: the respondent passed away, the respondent was incapacitated, the respondent refused to be interviewed, the respondent was permanently/temporarily unavailable, or other (specify).\n",
    "\n",
    "The most essential step is to create a set of protocols so that enumerators who face tracking challenges know how to proceed. For example, if a respondent is initially found to be temporarily unavailable, the tracking enumerator should be instructed on whether to collect additional information (e.g. when the respondent will become available, contact numbers) that he/she can hand to the team supervisor, in order to decide whether to revisit this household at a later time. Similarly, if a household has moved, enumerators should have a clear set of instructions on how to gather information on the updated whereabouts, so that their supervisors can determine whether the household should be surveyed in its new location.\n",
    "\n",
    "- **Resource:** [Respondent Tracking Guide](https://northwestern.app.box.com/file/318072032321) (Box)"
   ]
  }
 ],
 "metadata": {
  "kernelspec": {
   "display_name": "Stata",
   "language": "stata",
   "name": "stata"
  },
  "language_info": {
   "codemirror_mode": "stata",
   "file_extension": ".do",
   "mimetype": "text/x-stata",
   "name": "stata",
   "version": "15.1"
  }
 },
 "nbformat": 4,
 "nbformat_minor": 2
}
