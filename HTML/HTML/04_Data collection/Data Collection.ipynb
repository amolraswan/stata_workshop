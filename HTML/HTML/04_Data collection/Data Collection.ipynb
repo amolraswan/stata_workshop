{
 "cells": [
  {
   "cell_type": "markdown",
   "metadata": {},
   "source": [
    "# Data Collection"
   ]
  },
  {
   "cell_type": "markdown",
   "metadata": {},
   "source": [
    "As a data RA, you might start working on a project when the data collection is just beginning or when it has been completed. In the former case, the project staff often require help program or bench-test the survey during the design stage (if using computer-assisted interviewing), and to conduct high frequency checks or back checks during the implementation stage. In the latter case, data RAs are principally responsible for the cleaning and analysis of the data.\n",
    "\n",
    "For a general introduction to GPRL’s best practices for data collection, including data entry and digital data collection, see these guides:\n",
    "\n",
    "- **Resource:** [Choosing Your Data Collection Method](https://northwestern.app.box.com/file/311246366331) (Box)\n",
    "- **Resource:** [Data Quality Control Guide](https://northwestern.app.box.com/file/311248638037) (Box)"
   ]
  },
  {
   "cell_type": "markdown",
   "metadata": {},
   "source": [
    "Check details of the following steps:\n",
    "\n",
    "1. [Data Collection Methods](Data Collection Methods/Data Collection Methods.html)\n",
    "2. [Survey Programming and Instrument Design](Survey Programming and Instrument Design/Survey Programming and Instrument Design.html)\n",
    "3. [Data Quality Checks](Data Quality Checks/Data Quality Checks.html)\n",
    "4. [Tracking](Tracking/Tracking.html)\n",
    "5. [Documentation](Documentation/Documentation.html)\n",
    "6. [Miscellaneous Considerations](Miscellaneous Considerations/Miscellaneous Considerations.html)"
   ]
  }
 ],
 "metadata": {
  "kernelspec": {
   "display_name": "Stata",
   "language": "stata",
   "name": "stata"
  },
  "language_info": {
   "codemirror_mode": "stata",
   "file_extension": ".do",
   "mimetype": "text/x-stata",
   "name": "stata",
   "version": "15.1"
  }
 },
 "nbformat": 4,
 "nbformat_minor": 2
}
