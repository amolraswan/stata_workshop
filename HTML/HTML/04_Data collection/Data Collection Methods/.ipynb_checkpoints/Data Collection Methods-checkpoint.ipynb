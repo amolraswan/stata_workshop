{
 "cells": [
  {
   "cell_type": "markdown",
   "metadata": {},
   "source": [
    "### 1. Data Collection Methods"
   ]
  },
  {
   "cell_type": "markdown",
   "metadata": {},
   "source": [
    "Although most projects now use digital tools to collect data (e.g. Blaise, CSPro, SurveyCTO), there are instances in which paper-based surveying may still be necessary. This could be due to budgetary concerns which limit the number of devices that can be purchased, or to an intentional project decision to keep paper versions of the survey instrument on hand so that, in the case of a failed or lost device while in the field, data collection will not be delayed.\n",
    "\n",
    "#### Paper-Based Interviewing\n",
    "\n",
    "If paper-based data collection methods are employed, then the data entry will need to be done in two stages: 1) manually entering the data into a survey form; and 2) converting the entries into a digital system, either by hand or with the use of a software program. If done manually, this process typically involves two people who independently enter the survey into an electronic database. Stata programs, such as **cfout**, are then run to identify and reconcile any differences between the two sets of manually entered data. This technique is known as double entry.\n",
    "\n",
    "- **Resource:** [Guide to Double Entry Reconciliation](https://northwestern.app.box.com/file/311246378787) (Box) \n",
    "- **Resource:** [Guide to Data Entry Auditing](https://northwestern.app.box.com/file/311246498171) (Box) \n",
    "- **Resource:** **cfout**. To install, type **ssc install cfout** into a Stata command window.\n",
    "\n",
    "There are also tools that can streamline this process by automating the second stage of data entry. One such program, called **Captricity**, is a software program that uses machine learning to read hand-written surveys and extract data from them, digitizing the information collected. However, it is still good practice to have another person verifying the work and documenting any differences to be reconciled, as these programs are not invulnerable to error.\n",
    "\n",
    "#### Computer-Assisted Interviewing\n",
    "\n",
    "For most projects, IPA and GPRL use computer-assisted interviewing (CAI) software for data collection. With this method, surveys can be easily programmed into an Excel spreadsheet and uploaded onto a collective server, with the ability for individual enumerators to download forms onto a device (e.g., tablet, laptop, or phone) which they can then use to fill out the survey digitally. Once they have finished a survey for a given respondent, they can upload the completed form to the server and begin a new one immediately. Digital forms also enable enumerators to save and resume partially completed forms.\n",
    "\n",
    "One significant advantage of CAI is data quality: surveys can be programmed to automate skip patterns, constrain response values, calculate amounts (e.g., determine age based on the date of birth entered), require answers to certain questions to avoid missing responses, and more. It also makes it much easier for data RAs to monitor the data as it is being collected in order to flag and report issues to the field team.\n",
    "\n",
    "If you are on a project that utilizes CAI for data collection, browse the following resources to gain familiarity with the process:\n",
    "\n",
    "- **Resource:** [CAI Important Processes and Protocols](https://northwestern.app.box.com/file/311246785550) (Box)\n",
    "- **Resource:** [CAI Steps and Timeline Flow Chart](https://northwestern.app.box.com/file/311246598440) (Box)\n",
    "\n",
    "The most commonly used CAI software is SurveyCTO, which is a digital surveying platform that allows users to design their own forms either in Excel or with a built-in form designer and then upload them to the server for previewing and testing. Once deployed, the forms become available for data collection and when the data is submitted by enumerators, it can be downloaded as a .csv file and imported directly into Stata for cleaning and analyzing.\n",
    "\n",
    "To get familiar with this survey design tool, you should begin by looking at the SurveyCTO website. You can create a free basic account, and once you have done so you can browse the extremely comprehensive set of guides and help pages that explain how to get started designing your own forms. You should also watch the [crash course videos](https://northwestern.box.com/s/tfrkcm6f6xaj9pgv6o8exd6uqzm5i49n) (Box) to gain insight into the basics of programming a SurveyCTO form and testing how the data collection process works.\n",
    "\n",
    "Once you have a sense of how the software operates, you can browse the materials located in the “SurveyCTO” sub-folder. Here, you will find more in-depth examples, exercises, and documentation. Most importantly, you should read through the [SurveyCTO best practices checklist](https://northwestern.app.box.com/file/297541693440) (Box) to understand what defines a well-programmed form. "
   ]
  },
  {
   "cell_type": "markdown",
   "metadata": {},
   "source": [
    "Check out the next step here: [2. Survey Programming and Instrument Design](../Survey Programming and Instrument Design/Survey Programming and Instrument Design.html)"
   ]
  }
 ],
 "metadata": {
  "kernelspec": {
   "display_name": "Stata",
   "language": "stata",
   "name": "stata"
  },
  "language_info": {
   "codemirror_mode": "stata",
   "file_extension": ".do",
   "mimetype": "text/x-stata",
   "name": "stata",
   "version": "15.1"
  }
 },
 "nbformat": 4,
 "nbformat_minor": 2
}
