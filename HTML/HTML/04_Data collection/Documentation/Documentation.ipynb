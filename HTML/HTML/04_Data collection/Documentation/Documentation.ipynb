{
 "cells": [
  {
   "cell_type": "markdown",
   "metadata": {},
   "source": [
    "### 5. Documentation\n"
   ]
  },
  {
   "cell_type": "markdown",
   "metadata": {},
   "source": [
    "It is critical to document the data collection process in order to record key decisions, issues, or changes that were made. There are a number of ways to do this. \n",
    "\n",
    "First and foremost, it is useful to put together a manual at the start of any project that will at some point likely involve data collection. There is no set template for a project manual, but ideally it should be a descriptive write-up of the various aspects of a project, including topics such as staff, timeline, survey design (e.g. different rounds of collection, whether multiple forms were used), data map (how data is processed from raw to clean – this can also be a stand-alone document), and folder locations for key do files and datasets. This way, a new member of the project team can quickly and easily familiarize themselves with the way in which data was collected and saved. This can be a useful resource even for people who have been part of a project for some time; it can serve as a reference tool in case someone needs to recall how a project was originally designed, or how the data was initially collected. For example, recording that a baseline survey was conducted using an older software program such as Blaise whereas the endline survey was conducted using SurveyCTO can be extremely informative when the time comes to pool the various rounds of data, since Blaise exports data in a different format than SurveyCTO does.\n",
    "\n",
    "Another useful documentation tool is a data management log. Whereas the project manual is meant to serve as a broader overview, the data management log dives deeper into the details of the data collection period, noting where challenges arose, when programming adjustments had to be made, what issues were flagged by the quality checks, and what concerns were raised by members of the field team. This should be recorded in a single spreadsheet, with each entry including the name of the person entering the information & the date, thereby making it easy to trace who was involved on a project at a particular time and therefore aware of certain issues."
   ]
  }
 ],
 "metadata": {
  "kernelspec": {
   "display_name": "Stata",
   "language": "stata",
   "name": "stata"
  },
  "language_info": {
   "codemirror_mode": "stata",
   "file_extension": ".do",
   "mimetype": "text/x-stata",
   "name": "stata",
   "version": "15.1"
  }
 },
 "nbformat": 4,
 "nbformat_minor": 2
}
